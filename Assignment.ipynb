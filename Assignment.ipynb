{
  "metadata": {
    "kernelspec": {
      "name": "python",
      "display_name": "Python (Pyodide)",
      "language": "python"
    },
    "language_info": {
      "codemirror_mode": {
        "name": "python",
        "version": 3
      },
      "file_extension": ".py",
      "mimetype": "text/x-python",
      "name": "python",
      "nbconvert_exporter": "python",
      "pygments_lexer": "ipython3",
      "version": "3.8"
    }
  },
  "nbformat_minor": 4,
  "nbformat": 4,
  "cells": [
    {
      "cell_type": "code",
      "source": "print(\"hello\")",
      "metadata": {
        "trusted": true
      },
      "outputs": [
        {
          "name": "stdout",
          "text": "hello\n",
          "output_type": "stream"
        }
      ],
      "execution_count": 1
    },
    {
      "cell_type": "code",
      "source": "# Data Science Notebook\n",
      "metadata": {
        "trusted": true
      },
      "outputs": [],
      "execution_count": 2
    },
    {
      "cell_type": "code",
      "source": "## Introduction\n\nprint(\"This notebook is designed to provide an overview of various aspects of data science, including languages, libraries, and tools. It will also demonstrate some basic arithmetic operations and conversions using code.\")\n",
      "metadata": {
        "trusted": true
      },
      "outputs": [
        {
          "name": "stdout",
          "text": "This notebook is designed to provide an overview of various aspects of data science, including languages, libraries, and tools. It will also demonstrate some basic arithmetic operations and conversions using code.\n",
          "output_type": "stream"
        }
      ],
      "execution_count": 4
    },
    {
      "cell_type": "code",
      "source": "## Data Science Languages\n\nprint(\"Here are some popular languages used in data science:- Python\\n- SQL\\n- Scala\\n- Julia\")\n",
      "metadata": {
        "trusted": true
      },
      "outputs": [
        {
          "name": "stdout",
          "text": "Here are some popular languages used in data science:- Python\n- SQL\n- Scala\n- Julia\n",
          "output_type": "stream"
        }
      ],
      "execution_count": 6
    },
    {
      "cell_type": "code",
      "source": "## Data Science Libraries\n\nprint(\"Some widely used libraries in data science include:- NumPy\\n- Pandas\\n- Matplotlib\\n- Scikit-learn\\n- TensorFlow\\n- Keras\\n- ggplot2\\n- caret\")\n",
      "metadata": {
        "trusted": true
      },
      "outputs": [
        {
          "name": "stdout",
          "text": "Some widely used libraries in data science include:- NumPy\n- Pandas\n- Matplotlib\n- Scikit-learn\n- TensorFlow\n- Keras\n- ggplot2\n- caret\n",
          "output_type": "stream"
        }
      ],
      "execution_count": 7
    },
    {
      "cell_type": "code",
      "source": "## Data Science Tools\n\n| Tool          | Description                                    |\n|---------------|------------------------------------------------|\n| Jupyter       | An open-source tool for creating and sharing documents that contain live code, equations, visualizations, and narrative text. |\n| GitHub         | A platform for version control and collaboration, allowing multiple people to work on projects at once. |\n| RStudio        | An integrated development environment (IDE) for R programming. |\n| Tableau        | A data visualization tool that helps in creating interactive and shareable dashboards. |\n| Apache Spark   | A unified analytics engine for big data processing with built-in modules for streaming, SQL, machine learning, and graph processing. |\n",
      "metadata": {
        "trusted": true
      },
      "outputs": [],
      "execution_count": null
    },
    {
      "cell_type": "code",
      "source": "## Arithmetic Expression Examples\n\nIn this section, we will demonstrate basic arithmetic operations such as addition and multiplication using Python code.\n",
      "metadata": {
        "trusted": true
      },
      "outputs": [],
      "execution_count": null
    },
    {
      "cell_type": "code",
      "source": "# Arithmetic Operations\n\n# Define numbers\na = 5\nb = 10\n\n# Multiply\nproduct = a * b\n\n# Add\nsum_result = a + b\n\nprint(product, sum_result)\n",
      "metadata": {
        "trusted": true
      },
      "outputs": [
        {
          "name": "stdout",
          "text": "50 15\n",
          "output_type": "stream"
        }
      ],
      "execution_count": 8
    },
    {
      "cell_type": "code",
      "source": "# Convert Minutes to Hours\n\ndef minutes_to_hours(minutes):\n    hours = minutes / 60\n    return hours\n\n# Convert 120 minutes to hours\nminutes = 120\nhours = minutes_to_hours(minutes)\n\nprint(hours)\n",
      "metadata": {
        "trusted": true
      },
      "outputs": [
        {
          "name": "stdout",
          "text": "2.0\n",
          "output_type": "stream"
        }
      ],
      "execution_count": 9
    },
    {
      "cell_type": "code",
      "source": "## Objectives\n\n1. Understand basic data science languages and libraries.\n2. Learn to use Jupyter notebooks for documenting and executing code.\n3. Gain experience with simple arithmetic operations and conversions.\n4. Explore how to structure and share a data science project.\n",
      "metadata": {
        "trusted": true
      },
      "outputs": [],
      "execution_count": null
    },
    {
      "cell_type": "code",
      "source": "## Author\n\nThis notebook was created by \"Richa Agnihotri\"\n",
      "metadata": {
        "trusted": true
      },
      "outputs": [],
      "execution_count": null
    }
  ]
}